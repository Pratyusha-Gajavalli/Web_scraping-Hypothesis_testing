{
 "cells": [
  {
   "cell_type": "code",
   "execution_count": 6,
   "id": "8d672d93",
   "metadata": {},
   "outputs": [],
   "source": [
    "import gensim"
   ]
  },
  {
   "cell_type": "code",
   "execution_count": 8,
   "id": "5af4117a",
   "metadata": {},
   "outputs": [
    {
     "name": "stderr",
     "output_type": "stream",
     "text": [
      "<ipython-input-8-9bcda9a6734d>:4: DeprecationWarning: Call to deprecated `glove2word2vec` (KeyedVectors.load_word2vec_format(.., binary=False, no_header=True) loads GLoVE text vectors.).\n",
      "  glove2word2vec(glove_input_file, word2vec_output_file)\n"
     ]
    },
    {
     "data": {
      "text/plain": [
       "(400001, 50)"
      ]
     },
     "execution_count": 8,
     "metadata": {},
     "output_type": "execute_result"
    }
   ],
   "source": [
    "from gensim.scripts.glove2word2vec import glove2word2vec #convert GloVe format to Word2Vec format\n",
    "glove_input_file = 'C:/Users/gajav/OneDrive - purdue.edu/Documents/AUD/glove.6B.50d.txt'# make sure the file is unzipped\n",
    "word2vec_output_file = 'glove.6B.50d.txt.word2vec'\n",
    "glove2word2vec(glove_input_file, word2vec_output_file)"
   ]
  },
  {
   "cell_type": "code",
   "execution_count": 9,
   "id": "14aa2611",
   "metadata": {},
   "outputs": [],
   "source": [
    "from gensim.models import KeyedVectors\n",
    "filename = 'glove.6B.50d.txt.word2vec'\n",
    "model = KeyedVectors.load_word2vec_format(filename, binary=False)"
   ]
  },
  {
   "cell_type": "code",
   "execution_count": 4,
   "id": "d8549a01",
   "metadata": {},
   "outputs": [
    {
     "name": "stdout",
     "output_type": "stream",
     "text": [
      "[ 0.42496   0.62256   0.45534   0.21228   1.8412    0.56296   0.1742\n",
      " -1.2293   -0.14219  -0.67129   0.12682  -0.29442   1.0891    0.066685\n",
      "  0.38325   0.58752  -0.61554   0.44571  -0.88851  -1.2684   -0.30284\n",
      " -1.1256   -0.37254  -0.7837   -0.12274  -0.77839  -0.77191   0.37814\n",
      "  1.0284    0.36786   3.0833    0.21974   0.20265   0.050273  0.41587\n",
      "  0.40145  -0.17162   0.54531   0.11405  -0.58774  -0.031117  0.11179\n",
      "  0.42903   0.76551  -0.60878   0.055246  0.61772  -0.23703   0.11955\n",
      "  0.071263]\n"
     ]
    }
   ],
   "source": [
    "i=\"size\"\n",
    "v_is=model[i]\n",
    "print(v_is)"
   ]
  },
  {
   "cell_type": "code",
   "execution_count": 14,
   "id": "649c3176",
   "metadata": {
    "scrolled": true
   },
   "outputs": [
    {
     "name": "stdout",
     "output_type": "stream",
     "text": [
      "[('depending', 0.7880865335464478), ('larger', 0.7838000059127808), ('equivalent', 0.7695844769477844), ('typical', 0.7623288631439209), ('shape', 0.7578284740447998), ('smallest', 0.753090500831604), ('typically', 0.7475710511207581), ('household', 0.7428879141807556), ('large', 0.7403317093849182), ('than', 0.7387843132019043), ('less', 0.7386274337768555), ('height', 0.7373319864273071), ('same', 0.7339470982551575), ('small', 0.7320384979248047), ('smaller', 0.7319595217704773), ('above', 0.7310600876808167), ('or', 0.730358898639679), ('each', 0.7298277616500854), ('usually', 0.7297328114509583), ('sized', 0.7282335758209229), ('comparable', 0.7282131910324097), ('comparison', 0.7250240445137024), ('value', 0.7248651385307312), ('example', 0.7212139964103699), ('sizes', 0.7206937074661255), ('fixed', 0.7104998826980591), ('type', 0.7083248496055603), ('below', 0.7056968212127686), ('figure', 0.7026157379150391), ('weight', 0.7018132209777832), ('light', 0.6994478702545166), ('actual', 0.6986882090568542), ('difference', 0.6950833797454834), ('instance', 0.6936397552490234), ('types', 0.689747154712677), ('average', 0.6888800263404846), ('cost', 0.6869577169418335), ('stands', 0.6846344470977783), ('bigger', 0.6846064329147339), ('makes', 0.6843387484550476), ('color', 0.6829468607902527), ('unique', 0.6824945211410522), ('more', 0.6821586489677429), ('almost', 0.6796098351478577), ('fraction', 0.6786449551582336), ('normally', 0.6785967350006104), ('only', 0.6785582900047302), ('flat', 0.6782326698303223), ('much', 0.6781318783760071), ('every', 0.6768179535865784), ('rather', 0.6767860054969788), ('tiny', 0.6767674684524536), ('low', 0.6759088635444641), ('matching', 0.6742863059043884), ('frame', 0.6736644506454468), ('quarters', 0.6732020974159241), ('entire', 0.6731775403022766), ('varies', 0.6725757122039795), ('hence', 0.6725017428398132), ('shaped', 0.6718125343322754), ('component', 0.6708614230155945), ('dimensions', 0.6702870726585388), ('simple', 0.6691102981567383), ('compared', 0.669062614440918), ('length', 0.6688736081123352), ('numbers', 0.668708860874176), ('zero', 0.6685791015625), ('longer', 0.6680708527565002), ('contrast', 0.6677389740943909), ('higher', 0.6673014163970947), ('amount', 0.6662504076957703), ('vary', 0.6656284332275391), ('structure', 0.6634911298751831), ('one', 0.663423478603363), ('roughly', 0.6632065176963806), ('given', 0.6585193276405334), ('i.e.', 0.658239483833313), ('identical', 0.6582033038139343), ('meaning', 0.6579363942146301), ('ideal', 0.6578575372695923), ('a', 0.6578531861305237), ('reduced', 0.6577402949333191), ('relative', 0.6568262577056885), ('diameter', 0.6564581990242004), ('similar', 0.6559805274009705), ('product', 0.6545745730400085), ('measured', 0.6539590954780579), ('balance', 0.6529060006141663), ('mean', 0.6518295407295227), ('this', 0.6504825353622437), ('equal', 0.6500171422958374), ('actually', 0.6497716903686523), ('whole', 0.6494569778442383), ('per', 0.649179995059967), ('combined', 0.648975133895874), ('.', 0.6489270329475403), ('object', 0.6486246585845947), ('ones', 0.6481140851974487), ('it', 0.6480973362922668), ('items', 0.6478138566017151), ('attached', 0.6461223363876343), ('variation', 0.645952045917511), ('standard', 0.6459147930145264), ('of', 0.645781397819519), ('relatively', 0.6453306078910828), ('probably', 0.6446002721786499), ('whereas', 0.6443688869476318), ('characteristics', 0.6442871689796448), ('instead', 0.6441482901573181), ('volume', 0.6427524089813232), ('its', 0.6420716643333435), ('objects', 0.6419966816902161), ('display', 0.6418172121047974), ('slightly', 0.6412510871887207), ('is', 0.6412498950958252), ('common', 0.6410558819770813), ('ordinary', 0.6406166553497314), ('present', 0.6402859687805176), ('add', 0.6398569941520691), ('full', 0.6398483514785767), ('combination', 0.6386106014251709), ('means', 0.638274610042572), ('range', 0.6382352709770203), ('can', 0.6382230520248413), ('lower', 0.6378219723701477), ('extra', 0.637693464756012), ('item', 0.637275755405426), ('huge', 0.6369746327400208), ('natural', 0.6369187235832214), ('enough', 0.636888325214386), ('proportion', 0.6368325352668762), ('thin', 0.6367440819740295), ('perfect', 0.6366691589355469), ('exactly', 0.6350355744361877), ('normal', 0.6344540119171143), ('space', 0.6344359517097473), ('scale', 0.6342175006866455), ('even', 0.6339080333709717), ('unusual', 0.6334436535835266), ('feet', 0.6331462860107422), ('drop', 0.6324368715286255), ('core', 0.6323528289794922), ('current', 0.6323414444923401), ('uses', 0.6322512030601501), ('changing', 0.6322035789489746), ('certain', 0.6321723461151123), ('exception', 0.6320875883102417), ('measuring', 0.6319199800491333), ('visible', 0.6318343281745911), ('usual', 0.6308908462524414), ('perhaps', 0.6303650736808777), ('different', 0.630237877368927), ('older', 0.6302074790000916), ('strength', 0.6293549537658691), ('bearing', 0.6291444301605225), ('element', 0.6285446286201477), ('except', 0.6272321343421936), ('lighter', 0.6268587112426758), ('particular', 0.6267305612564087), ('resembles', 0.6264690160751343), ('uniform', 0.6263343691825867), ('array', 0.6259722709655762), ('fit', 0.625846266746521), ('pattern', 0.6256171464920044), ('nearly', 0.6252891421318054), ('there', 0.6252127885818481), ('thus', 0.6251676678657532), ('inches', 0.6250497102737427), ('most', 0.6246774196624756), ('mere', 0.6240870952606201), ('which', 0.6238448619842529), ('used', 0.6236901879310608), ('costs', 0.6233829855918884), ('person', 0.6228975653648376), ('some', 0.622515082359314), ('represent', 0.6218264102935791), ('tall', 0.6217712163925171), ('making', 0.6216184496879578), ('2.5', 0.6212952136993408), ('characteristic', 0.6211850643157959), ('any', 0.6210993528366089), ('addition', 0.6210259199142456), ('available', 0.6208541393280029), ('desired', 0.6208072900772095), ('surface', 0.6207104921340942), ('gives', 0.6206856369972229), ('plus', 0.6206352710723877), ('basic', 0.6201686859130859), ('solid', 0.6201508045196533), ('either', 0.6198292970657349), ('placing', 0.6195878386497498), ('comes', 0.6189677119255066), ('portion', 0.6185648441314697), ('quantity', 0.6180593967437744), ('units', 0.6177518367767334), ('generally', 0.6174001097679138), ('assuming', 0.6172528862953186), ('cut', 0.6164488196372986), ('components', 0.6164088845252991), ('corresponding', 0.6156781315803528), ('load', 0.6155802011489868), ('point', 0.6155223846435547), ('enormous', 0.6151226162910461), ('little', 0.6151034832000732), ('increase', 0.6149961352348328), ('alone', 0.6148812770843506), ('still', 0.6145950555801392), ('another', 0.6143422722816467), ('use', 0.61416095495224), ('dropping', 0.6138368248939514), ('cap', 0.6136192679405212), ('variable', 0.613350510597229), ('weighing', 0.6127350926399231), ('terms', 0.6125931143760681), ('so', 0.6125257015228271), ('barely', 0.612500011920929), ('looks', 0.6121243834495544), ('grow', 0.6120197772979736), ('indicates', 0.6118273138999939), ('temperature', 0.6117144227027893), ('individual', 0.6116122603416443), ('share', 0.6113420128822327), ('shapes', 0.6109017729759216), ('essentially', 0.6108945608139038), ('measure', 0.6105043292045593), ('be', 0.6102966666221619), ('well', 0.610244870185852), ('surplus', 0.6098594069480896), ('up', 0.6092618107795715), ('level', 0.6089953780174255), ('capacity', 0.608786940574646), ('depends', 0.6087279915809631), ('rest', 0.6085727214813232), ('price', 0.6084035038948059), ('make', 0.6082509756088257), ('look', 0.6079387664794922), ('the', 0.607765793800354), ('half', 0.6077523231506348), ('all', 0.6077406406402588), ('scales', 0.6076427102088928), ('produce', 0.6073192358016968), ('unlike', 0.6072051525115967), ('as', 0.6071373224258423), ('expensive', 0.6070286631584167), ('conventional', 0.6069654226303101), ('presumably', 0.6068646907806396), ('modest', 0.6068039536476135), ('inch', 0.6065333485603333), ('few', 0.60594242811203), ('long', 0.6056245565414429), ('additional', 0.6054272055625916), ('resembling', 0.605145275592804), ('rise', 0.6050712466239929), ('model', 0.6043834686279297), ('shift', 0.6043460965156555), ('beyond', 0.60422682762146), ('least', 0.6040024161338806), ('ground', 0.603610098361969), ('total', 0.6034090518951416), ('worth', 0.603137731552124), ('fall', 0.6031113862991333), ('increases', 0.6029646396636963), ('minimum', 0.602761447429657), ('colour', 0.6027215123176575), ('values', 0.602506697177887), ('are', 0.6024418473243713), ('projected', 0.6022753715515137), ('memory', 0.6022006869316101), ('quality', 0.6016144752502441), ('image', 0.6014901399612427), ('income', 0.6010316610336304), ('lots', 0.600976288318634), ('very', 0.6006824970245361), ('placed', 0.6004904508590698), ('form', 0.6002162098884583), ('though', 0.5999439358711243), ('turn', 0.5997857451438904), ('_', 0.5997622013092041), ('sum', 0.599614143371582), ('1.5', 0.5995263457298279), ('percentage', 0.5989378690719604), ('bulk', 0.5986690521240234), ('those', 0.5985671281814575), ('true', 0.598419189453125), ('fallen', 0.5982541441917419), ('rate', 0.5978017449378967), ('symbolic', 0.5977685451507568), ('requires', 0.5976949334144592), ('preferred', 0.5974869728088379), ('projection', 0.5969656705856323), ('no', 0.5968962907791138), ('land', 0.596843957901001), ('defined', 0.5968317985534668), ('close', 0.5965726375579834), ('suitable', 0.5965628027915955), ('fairly', 0.5965244174003601), ('just', 0.596442699432373), ('using', 0.596272349357605), ('because', 0.5961376428604126), ('kind', 0.5957582592964172), ('valued', 0.5957441329956055), ('better', 0.5957411527633667), ('required', 0.5956811308860779), ('width', 0.5956686735153198), ('far', 0.5955945253372192), ('exact', 0.5953721404075623), ('plates', 0.5951578617095947), ('an', 0.5951137542724609), ('colors', 0.5946721434593201), ('$', 0.5944815874099731), ('these', 0.5941097736358643), ('anywhere', 0.5937327146530151), ('setting', 0.5934736132621765), ('raised', 0.593012809753418), ('create', 0.5926957130432129), ('gain', 0.5926819443702698), ('screen', 0.5924736261367798), ('base', 0.5921413898468018), ('holds', 0.5921373963356018), ('high', 0.5921237468719482), ('thickness', 0.5916836857795715), ('within', 0.5916127562522888), ('likely', 0.5915928483009338), ('seen', 0.5914109945297241), ('today', 0.5913732051849365), ('configuration', 0.591368556022644), ('room', 0.5913289785385132), ('with', 0.5908615589141846), ('distinctive', 0.590775191783905), ('thick', 0.5906834602355957), ('represents', 0.5906352996826172), ('amounts', 0.5905821323394775), ('sight', 0.5905275940895081), ('density', 0.5902307629585266), ('number', 0.5901679992675781), ('moreover', 0.5901306867599487), ('distinct', 0.5900813937187195), ('distance', 0.5898407101631165), ('fact', 0.5896093249320984), ('models', 0.5892477035522461), ('your', 0.5891818404197693), ('blue', 0.5889947414398193), ('revenue', 0.588951826095581), ('premium', 0.5888855457305908), ('margin', 0.5887770056724548), ('may', 0.5884933471679688), ('assume', 0.5884284973144531), ('therefore', 0.5883527398109436), ('resemble', 0.5874567031860352), ('pack', 0.5872978568077087), ('creates', 0.5871260762214661), ('sometimes', 0.5868952870368958), ('trim', 0.5866674780845642), ('ratio', 0.5865038633346558), ('short', 0.5863962173461914), ('structures', 0.5861930847167969), ('dark', 0.5861419439315796), ('fits', 0.5857148170471191), ('to', 0.5855701565742493), ('fine', 0.5855642557144165), ('time', 0.58523029088974), ('wide', 0.5851771831512451), ('fitting', 0.5850837230682373), ('fewer', 0.5848695039749146), ('require', 0.5847451090812683), ('reflecting', 0.5843822956085205), ('now', 0.5843281149864197), ('about', 0.584218442440033), ('system', 0.5841817259788513), ('bright', 0.5839146971702576), ('significant', 0.5838364362716675), ('highest', 0.5835871696472168), ('pieces', 0.5832304954528809), ('increased', 0.583074688911438), ('options', 0.5824857354164124), ('needs', 0.5824093222618103), ('carry', 0.5816611647605896), ('minimal', 0.5813824534416199), ('but', 0.5813005566596985), ('preference', 0.5812718272209167), ('exceeds', 0.5810375213623047), ('although', 0.5809434652328491), ('limit', 0.5807315707206726), ('place', 0.5805784463882446), ('possibly', 0.5805439352989197), ('50', 0.5804536938667297), ('plate', 0.5804162621498108), ('gap', 0.5800191164016724), ('whose', 0.5798170566558838), ('handle', 0.5795369744300842), ('takes', 0.5789570808410645), ('approximate', 0.578805685043335), ('floating', 0.5787932276725769), ('empty', 0.5787313580513), ('rectangular', 0.5785188674926758), ('change', 0.5784514546394348), ('found', 0.5782753229141235), ('around', 0.5782085061073303), ('white', 0.5781117081642151), ('3.5', 0.5778387784957886)]\n"
     ]
    }
   ],
   "source": [
    "sim_is = model.most_similar('size', topn=400)\n",
    "print(sim_is)"
   ]
  },
  {
   "cell_type": "code",
   "execution_count": 15,
   "id": "eee18ba9",
   "metadata": {},
   "outputs": [
    {
     "name": "stdout",
     "output_type": "stream",
     "text": [
      "['depending', 'larger', 'equivalent', 'typical', 'shape', 'smallest', 'typically', 'household', 'large', 'than', 'less', 'height', 'same', 'small', 'smaller', 'above', 'or', 'each', 'usually', 'sized', 'comparable', 'comparison', 'value', 'example', 'sizes', 'fixed', 'type', 'below', 'figure', 'weight', 'light', 'actual', 'difference', 'instance', 'types', 'average', 'cost', 'stands', 'bigger', 'makes', 'color', 'unique', 'more', 'almost', 'fraction', 'normally', 'only', 'flat', 'much', 'every', 'rather', 'tiny', 'low', 'matching', 'frame', 'quarters', 'entire', 'varies', 'hence', 'shaped', 'component', 'dimensions', 'simple', 'compared', 'length', 'numbers', 'zero', 'longer', 'contrast', 'higher', 'amount', 'vary', 'structure', 'one', 'roughly', 'given', 'i.e.', 'identical', 'meaning', 'ideal', 'a', 'reduced', 'relative', 'diameter', 'similar', 'product', 'measured', 'balance', 'mean', 'this', 'equal', 'actually', 'whole', 'per', 'combined', '.', 'object', 'ones', 'it', 'items', 'attached', 'variation', 'standard', 'of', 'relatively', 'probably', 'whereas', 'characteristics', 'instead', 'volume', 'its', 'objects', 'display', 'slightly', 'is', 'common', 'ordinary', 'present', 'add', 'full', 'combination', 'means', 'range', 'can', 'lower', 'extra', 'item', 'huge', 'natural', 'enough', 'proportion', 'thin', 'perfect', 'exactly', 'normal', 'space', 'scale', 'even', 'unusual', 'feet', 'drop', 'core', 'current', 'uses', 'changing', 'certain', 'exception', 'measuring', 'visible', 'usual', 'perhaps', 'different', 'older', 'strength', 'bearing', 'element', 'except', 'lighter', 'particular', 'resembles', 'uniform', 'array', 'fit', 'pattern', 'nearly', 'there', 'thus', 'inches', 'most', 'mere', 'which', 'used', 'costs', 'person', 'some', 'represent', 'tall', 'making', '2.5', 'characteristic', 'any', 'addition', 'available', 'desired', 'surface', 'gives', 'plus', 'basic', 'solid', 'either', 'placing', 'comes', 'portion', 'quantity', 'units', 'generally', 'assuming', 'cut', 'components', 'corresponding', 'load', 'point', 'enormous', 'little', 'increase', 'alone', 'still', 'another', 'use', 'dropping', 'cap', 'variable', 'weighing', 'terms', 'so', 'barely', 'looks', 'grow', 'indicates', 'temperature', 'individual', 'share', 'shapes', 'essentially', 'measure', 'be', 'well', 'surplus', 'up', 'level', 'capacity', 'depends', 'rest', 'price', 'make', 'look', 'the', 'half', 'all', 'scales', 'produce', 'unlike', 'as', 'expensive', 'conventional', 'presumably', 'modest', 'inch', 'few', 'long', 'additional', 'resembling', 'rise', 'model', 'shift', 'beyond', 'least', 'ground', 'total', 'worth', 'fall', 'increases', 'minimum', 'colour', 'values', 'are', 'projected', 'memory', 'quality', 'image', 'income', 'lots', 'very', 'placed', 'form', 'though', 'turn', '_', 'sum', '1.5', 'percentage', 'bulk', 'those', 'true', 'fallen', 'rate', 'symbolic', 'requires', 'preferred', 'projection', 'no', 'land', 'defined', 'close', 'suitable', 'fairly', 'just', 'using', 'because', 'kind', 'valued', 'better', 'required', 'width', 'far', 'exact', 'plates', 'an', 'colors', '$', 'these', 'anywhere', 'setting', 'raised', 'create', 'gain', 'screen', 'base', 'holds', 'high', 'thickness', 'within', 'likely', 'seen', 'today', 'configuration', 'room', 'with', 'distinctive', 'thick', 'represents', 'amounts', 'sight', 'density', 'number', 'moreover', 'distinct', 'distance', 'fact', 'models', 'your', 'blue', 'revenue', 'premium', 'margin', 'may', 'assume', 'therefore', 'resemble', 'pack', 'creates', 'sometimes', 'trim', 'ratio', 'short', 'structures', 'dark', 'fits', 'to', 'fine', 'time', 'wide', 'fitting', 'fewer', 'require', 'reflecting', 'now', 'about', 'system', 'bright', 'significant', 'highest', 'pieces', 'increased', 'options', 'needs', 'carry', 'minimal', 'but', 'preference', 'exceeds', 'although', 'limit', 'place', 'possibly', '50', 'plate', 'gap', 'whose', 'handle', 'takes', 'approximate', 'floating', 'empty', 'rectangular', 'change', 'found', 'around', 'white', '3.5']\n"
     ]
    }
   ],
   "source": [
    "similar_words=[]\n",
    "for i in range(len(sim_is)):\n",
    "    similar_words.append(sim_is[i][0])\n",
    "print(similar_words)"
   ]
  },
  {
   "cell_type": "code",
   "execution_count": 16,
   "id": "4721002a",
   "metadata": {},
   "outputs": [],
   "source": [
    "similar_words_joined=\" \".join(similar_words)"
   ]
  },
  {
   "cell_type": "code",
   "execution_count": 17,
   "id": "ff4186fc",
   "metadata": {},
   "outputs": [
    {
     "name": "stdout",
     "output_type": "stream",
     "text": [
      "depending larger equivalent typical shape smallest typically household large than less height same small smaller above or each usually sized comparable comparison value example sizes fixed type below figure weight light actual difference instance types average cost stands bigger makes color unique more almost fraction normally only flat much every rather tiny low matching frame quarters entire varies hence shaped component dimensions simple compared length numbers zero longer contrast higher amount vary structure one roughly given i.e. identical meaning ideal a reduced relative diameter similar product measured balance mean this equal actually whole per combined . object ones it items attached variation standard of relatively probably whereas characteristics instead volume its objects display slightly is common ordinary present add full combination means range can lower extra item huge natural enough proportion thin perfect exactly normal space scale even unusual feet drop core current uses changing certain exception measuring visible usual perhaps different older strength bearing element except lighter particular resembles uniform array fit pattern nearly there thus inches most mere which used costs person some represent tall making 2.5 characteristic any addition available desired surface gives plus basic solid either placing comes portion quantity units generally assuming cut components corresponding load point enormous little increase alone still another use dropping cap variable weighing terms so barely looks grow indicates temperature individual share shapes essentially measure be well surplus up level capacity depends rest price make look the half all scales produce unlike as expensive conventional presumably modest inch few long additional resembling rise model shift beyond least ground total worth fall increases minimum colour values are projected memory quality image income lots very placed form though turn _ sum 1.5 percentage bulk those true fallen rate symbolic requires preferred projection no land defined close suitable fairly just using because kind valued better required width far exact plates an colors $ these anywhere setting raised create gain screen base holds high thickness within likely seen today configuration room with distinctive thick represents amounts sight density number moreover distinct distance fact models your blue revenue premium margin may assume therefore resemble pack creates sometimes trim ratio short structures dark fits to fine time wide fitting fewer require reflecting now about system bright significant highest pieces increased options needs carry minimal but preference exceeds although limit place possibly 50 plate gap whose handle takes approximate floating empty rectangular change found around white 3.5\n"
     ]
    }
   ],
   "source": [
    "print(similar_words_joined)"
   ]
  },
  {
   "cell_type": "code",
   "execution_count": 20,
   "id": "ca740e85",
   "metadata": {
    "scrolled": true
   },
   "outputs": [
    {
     "name": "stdout",
     "output_type": "stream",
     "text": [
      "[[0.02863513]]\n"
     ]
    },
    {
     "name": "stderr",
     "output_type": "stream",
     "text": [
      "[nltk_data] Downloading package punkt to C:\\Users\\Naveen Kumaran\n",
      "[nltk_data]     Kumar\\AppData\\Roaming\\nltk_data...\n",
      "[nltk_data]   Package punkt is already up-to-date!\n"
     ]
    }
   ],
   "source": [
    "#from sklearn.feature_extraction.text import TfidfVectorizer\n",
    "from sklearn.feature_extraction.text import CountVectorizer\n",
    "from sklearn.metrics import *\n",
    "vectorizer5 = CountVectorizer()\n",
    "\n",
    "\n",
    "\n",
    "import nltk\n",
    "nltk.download('punkt')\n",
    "#d1 will be our review\n",
    "#d1 = \"Joggers in cotton twill. Elastic waistband with drawstring, side pockets, and leg and back pockets with flap and concealed snap fasteners. Tapered legs with seams at knees and cuffed hems. Skinny Fit – slightly shorter legs with close-fitting thighs, knees, and ankles for a fully tailored silhouette\"\n",
    "d1=\"Jumpsuit in crêped jersey with a voluminous silhouette. Narrow shoulder straps, low-cut neckline front and back, and discreet side-seam pockets. Removable tie belt at waist\"\n",
    "#d2 will be the list with fit related keywords which we train on\n",
    "d2 = similar_words_joined\n",
    "#d3 = \"Jinyang is not a good guy, he is bad\"\n",
    "c3 = [d1, d2]\n",
    "\n",
    "\n",
    "\n",
    "vectorizer5.fit(c3)\n",
    "#print(vectorizer5.vocabulary_)\n",
    "v_c3 = vectorizer5.transform(c3).toarray()\n",
    "#print(v_c3)\n",
    "# we use cosine similarity here and if the result is >0 or equivalent, then we define that the description has size related keywords\n",
    "from sklearn.metrics.pairwise import cosine_similarity,cosine_distances\n",
    "A=v_c3[0]\n",
    "B=v_c3[1]\n",
    "result=cosine_similarity(A.reshape(1,-1),B.reshape(1,-1))\n",
    "print(result)"
   ]
  },
  {
   "cell_type": "code",
   "execution_count": null,
   "id": "902cd597",
   "metadata": {},
   "outputs": [],
   "source": []
  },
  {
   "cell_type": "markdown",
   "id": "b9e4ae21",
   "metadata": {},
   "source": [
    "# T test"
   ]
  },
  {
   "cell_type": "code",
   "execution_count": 1,
   "id": "129ea03e",
   "metadata": {},
   "outputs": [
    {
     "data": {
      "text/html": [
       "<div>\n",
       "<style scoped>\n",
       "    .dataframe tbody tr th:only-of-type {\n",
       "        vertical-align: middle;\n",
       "    }\n",
       "\n",
       "    .dataframe tbody tr th {\n",
       "        vertical-align: top;\n",
       "    }\n",
       "\n",
       "    .dataframe thead th {\n",
       "        text-align: right;\n",
       "    }\n",
       "</style>\n",
       "<table border=\"1\" class=\"dataframe\">\n",
       "  <thead>\n",
       "    <tr style=\"text-align: right;\">\n",
       "      <th></th>\n",
       "      <th>index</th>\n",
       "      <th>product</th>\n",
       "      <th>model_present</th>\n",
       "      <th>no_of_reviews</th>\n",
       "      <th>avg_rating</th>\n",
       "      <th>description</th>\n",
       "    </tr>\n",
       "  </thead>\n",
       "  <tbody>\n",
       "    <tr>\n",
       "      <th>0</th>\n",
       "      <td>0</td>\n",
       "      <td>https://www2.hm.com/en_us/productpage.10068160...</td>\n",
       "      <td>yes</td>\n",
       "      <td>1.0</td>\n",
       "      <td>5.0</td>\n",
       "      <td>Sleeveless jumpsuit in satin. Narrow, adjustab...</td>\n",
       "    </tr>\n",
       "    <tr>\n",
       "      <th>1</th>\n",
       "      <td>1</td>\n",
       "      <td>https://www2.hm.com/en_us/productpage.10215080...</td>\n",
       "      <td>yes</td>\n",
       "      <td>NaN</td>\n",
       "      <td>NaN</td>\n",
       "      <td>Long-sleeved jumpsuit in soft fleece with a ho...</td>\n",
       "    </tr>\n",
       "    <tr>\n",
       "      <th>2</th>\n",
       "      <td>2</td>\n",
       "      <td>https://www2.hm.com/en_us/productpage.10500210...</td>\n",
       "      <td>yes</td>\n",
       "      <td>NaN</td>\n",
       "      <td>NaN</td>\n",
       "      <td>Off-the-shoulder jumpsuit in soft jersey. V-ne...</td>\n",
       "    </tr>\n",
       "    <tr>\n",
       "      <th>3</th>\n",
       "      <td>3</td>\n",
       "      <td>https://www2.hm.com/en_us/productpage.10315750...</td>\n",
       "      <td>yes</td>\n",
       "      <td>NaN</td>\n",
       "      <td>NaN</td>\n",
       "      <td>Jumpsuit in woven fabric. Notched lapels, shou...</td>\n",
       "    </tr>\n",
       "    <tr>\n",
       "      <th>4</th>\n",
       "      <td>4</td>\n",
       "      <td>https://www2.hm.com/en_us/productpage.10168210...</td>\n",
       "      <td>yes</td>\n",
       "      <td>11.0</td>\n",
       "      <td>4.5</td>\n",
       "      <td>Fitted jumpsuit in ribbed jersey designed with...</td>\n",
       "    </tr>\n",
       "  </tbody>\n",
       "</table>\n",
       "</div>"
      ],
      "text/plain": [
       "   index                                            product model_present  \\\n",
       "0      0  https://www2.hm.com/en_us/productpage.10068160...           yes   \n",
       "1      1  https://www2.hm.com/en_us/productpage.10215080...           yes   \n",
       "2      2  https://www2.hm.com/en_us/productpage.10500210...           yes   \n",
       "3      3  https://www2.hm.com/en_us/productpage.10315750...           yes   \n",
       "4      4  https://www2.hm.com/en_us/productpage.10168210...           yes   \n",
       "\n",
       "   no_of_reviews  avg_rating  \\\n",
       "0            1.0         5.0   \n",
       "1            NaN         NaN   \n",
       "2            NaN         NaN   \n",
       "3            NaN         NaN   \n",
       "4           11.0         4.5   \n",
       "\n",
       "                                         description  \n",
       "0  Sleeveless jumpsuit in satin. Narrow, adjustab...  \n",
       "1  Long-sleeved jumpsuit in soft fleece with a ho...  \n",
       "2  Off-the-shoulder jumpsuit in soft jersey. V-ne...  \n",
       "3  Jumpsuit in woven fabric. Notched lapels, shou...  \n",
       "4  Fitted jumpsuit in ribbed jersey designed with...  "
      ]
     },
     "execution_count": 1,
     "metadata": {},
     "output_type": "execute_result"
    }
   ],
   "source": [
    "import pandas as pd\n",
    "import numpy as np\n",
    "%matplotlib inline\n",
    "\n",
    "#imported all columns - 'developer'\n",
    "df=pd.read_csv('women_jumpsuites.csv',usecols=[ 0,  1,  2,  3,  4,  5])\n",
    "df.head()\n"
   ]
  },
  {
   "cell_type": "code",
   "execution_count": 2,
   "id": "17df8dba",
   "metadata": {
    "scrolled": true
   },
   "outputs": [
    {
     "name": "stdout",
     "output_type": "stream",
     "text": [
      "    index                                            product model_present  \\\n",
      "0       0  https://www2.hm.com/en_us/productpage.10068160...           yes   \n",
      "4       4  https://www2.hm.com/en_us/productpage.10168210...           yes   \n",
      "7       7  https://www2.hm.com/en_us/productpage.10271600...           yes   \n",
      "10     10  https://www2.hm.com/en_us/productpage.09165370...           yes   \n",
      "15     15  https://www2.hm.com/en_us/productpage.09780250...           yes   \n",
      "16     16  https://www2.hm.com/en_us/productpage.10354290...           yes   \n",
      "17     17  https://www2.hm.com/en_us/productpage.09961420...            no   \n",
      "19     19  https://www2.hm.com/en_us/productpage.10102370...           yes   \n",
      "21     21  https://www2.hm.com/en_us/productpage.10408460...           yes   \n",
      "25     25  https://www2.hm.com/en_us/productpage.09994540...           yes   \n",
      "26     26  https://www2.hm.com/en_us/productpage.09845220...           yes   \n",
      "27     27  https://www2.hm.com/en_us/productpage.10421120...           yes   \n",
      "28     28  https://www2.hm.com/en_us/productpage.09725900...            no   \n",
      "31     31  https://www2.hm.com/en_us/productpage.09794100...           yes   \n",
      "34     34  https://www2.hm.com/en_us/productpage.10333490...           yes   \n",
      "36     36  https://www2.hm.com/en_us/productpage.09726180...            no   \n",
      "39     39  https://www2.hm.com/en_us/productpage.09725890...           yes   \n",
      "40     40  https://www2.hm.com/en_us/productpage.09713050...           yes   \n",
      "\n",
      "    no_of_reviews  avg_rating  \\\n",
      "0             1.0         5.0   \n",
      "4            11.0         4.5   \n",
      "7             7.0         5.0   \n",
      "10           14.0         4.0   \n",
      "15           61.0         4.0   \n",
      "16            3.0         4.0   \n",
      "17          163.0         4.0   \n",
      "19           51.0         4.5   \n",
      "21            1.0         5.0   \n",
      "25           20.0         4.0   \n",
      "26            1.0         3.0   \n",
      "27            2.0         5.0   \n",
      "28           30.0         4.5   \n",
      "31            7.0         4.5   \n",
      "34            1.0         2.0   \n",
      "36           57.0         4.0   \n",
      "39           15.0         4.0   \n",
      "40           25.0         4.0   \n",
      "\n",
      "                                          description  \n",
      "0   Sleeveless jumpsuit in satin. Narrow, adjustab...  \n",
      "4   Fitted jumpsuit in ribbed jersey designed with...  \n",
      "7   Short-sleeved jumpsuit in thick jersey. Collar...  \n",
      "10  Ankle-length yoga jumpsuit in fabric with a fa...  \n",
      "15  Ankle-length jumpsuit in soft cotton denim. Co...  \n",
      "16  Straight-leg jumpsuit in thick cotton denim. C...  \n",
      "17  Jumpsuit in crêped jersey with a voluminous si...  \n",
      "19  Sleeveless unitard in soft jersey. Narrow, adj...  \n",
      "21  Romper in soft, ribbed jersey made from a moda...  \n",
      "25  Fitted romper in ribbed jersey designed with a...  \n",
      "26  Jumpsuit in woven fabric. Notched lapels, padd...  \n",
      "27  Patterned romper in cotton jersey. V-neck, zip...  \n",
      "28  Romper in a woven linen and viscose blend. Wid...  \n",
      "31  Fitted unitard in fast-drying, functional fabr...  \n",
      "34  Romper in soft, stretch velour with short slee...  \n",
      "36  Sleeveless jumpsuit in airy linen with a fitte...  \n",
      "39  Ankle-length jumpsuit in a woven viscose blend...  \n",
      "40  Wide-cut jumpsuit in soft, woven lyocell. V-ne...  \n"
     ]
    }
   ],
   "source": [
    "dfa=df.dropna(subset=['no_of_reviews', 'avg_rating'])\n",
    "print(dfa)"
   ]
  },
  {
   "cell_type": "code",
   "execution_count": 3,
   "id": "9efb9f9c",
   "metadata": {},
   "outputs": [
    {
     "name": "stdout",
     "output_type": "stream",
     "text": [
      "Ttest_indResult(statistic=0.0, pvalue=1.0)\n",
      "Ttest_indResult(statistic=0.0, pvalue=1.0)\n"
     ]
    }
   ],
   "source": [
    "#t-test \n",
    "from scipy import stats\n",
    "a=dfa[dfa.model_present==\"yes\"]['avg_rating']\n",
    "b=dfa[dfa.model_present==\"no\"]['avg_rating']\n",
    "\n",
    "print(stats.ttest_ind(a,b,equal_var='unequal'))\n",
    "print(stats.ttest_ind(a,b,equal_var='pooled'))"
   ]
  },
  {
   "cell_type": "code",
   "execution_count": null,
   "id": "174f2066",
   "metadata": {},
   "outputs": [],
   "source": []
  }
 ],
 "metadata": {
  "kernelspec": {
   "display_name": "Python 3",
   "language": "python",
   "name": "python3"
  },
  "language_info": {
   "codemirror_mode": {
    "name": "ipython",
    "version": 3
   },
   "file_extension": ".py",
   "mimetype": "text/x-python",
   "name": "python",
   "nbconvert_exporter": "python",
   "pygments_lexer": "ipython3",
   "version": "3.8.8"
  }
 },
 "nbformat": 4,
 "nbformat_minor": 5
}
